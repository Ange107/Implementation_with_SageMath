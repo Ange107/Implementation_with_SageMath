{
 "cells": [
  {
   "cell_type": "markdown",
   "metadata": {},
   "source": [
    "## Algorithm of S-polynomials"
   ]
  },
  {
   "cell_type": "code",
   "execution_count": 1,
   "metadata": {},
   "outputs": [],
   "source": [
    "def S_polynomial(f1,f2):\n",
    "    a = f1.lm()\n",
    "    b = f2.lm()\n",
    "    c= f1.lt()\n",
    "    d = f2.lt()\n",
    "    ppcm = a.lcm(b)\n",
    "    s = (ppcm/c) * f1 - (ppcm/d) * f2\n",
    "    return s"
   ]
  },
  {
   "cell_type": "code",
   "execution_count": 2,
   "metadata": {},
   "outputs": [],
   "source": [
    "def S_polynomials(List):\n",
    "    L = list()\n",
    "    for i in range(len(List)-1):\n",
    "        for j in range(i+1,len(List)):\n",
    "            Lt_fi = List[i].lt()\n",
    "            Lm_fi = List[i].lm()\n",
    "            Lt_fj = List[j].lt()\n",
    "            Lm_fj = List[j].lm()\n",
    "            monomial_lcm = Lm_fi.lcm(Lm_fj)\n",
    "            Sij = expand((monomial_lcm/Lt_fi)*List[i] - (monomial_lcm/Lt_fj)*List[j])\n",
    "            L.append(Sij)\n",
    "    return L"
   ]
  },
  {
   "cell_type": "code",
   "execution_count": 3,
   "metadata": {},
   "outputs": [],
   "source": [
    "P.<x,y,z> = PolynomialRing(QQ)\n",
    "f0 = x^3 - 2*x*y\n",
    "f1 = x^2*y -2*y^2 + x\n",
    "f2 = 3*x^3*y + x*z + 5*y - 4*y*z\n",
    "F = [f0,f1,f2]"
   ]
  },
  {
   "cell_type": "code",
   "execution_count": 4,
   "metadata": {},
   "outputs": [
    {
     "data": {
      "text/plain": [
       "[-x^2,\n",
       " -2*x*y^2 - 1/3*x*z + 4/3*y*z - 5/3*y,\n",
       " -2*x*y^2 + x^2 - 1/3*x*z + 4/3*y*z - 5/3*y]"
      ]
     },
     "execution_count": 4,
     "metadata": {},
     "output_type": "execute_result"
    }
   ],
   "source": [
    "S_polynomials(F)"
   ]
  },
  {
   "cell_type": "code",
   "execution_count": 5,
   "metadata": {},
   "outputs": [],
   "source": [
    "from sage.rings.polynomial.toy_buchberger import spol"
   ]
  },
  {
   "cell_type": "code",
   "execution_count": 6,
   "metadata": {},
   "outputs": [
    {
     "data": {
      "text/plain": [
       "(-x^2,\n",
       " -2*x*y^2 - 1/3*x*z + 4/3*y*z - 5/3*y,\n",
       " -2*x*y^2 + x^2 - 1/3*x*z + 4/3*y*z - 5/3*y,\n",
       " True)"
      ]
     },
     "execution_count": 6,
     "metadata": {},
     "output_type": "execute_result"
    }
   ],
   "source": [
    "S_polynomial(f0,f1), S_polynomial(f0,f2), S_polynomial(f1,f2), S_polynomial(f1,f2) == spol(f1,f2)"
   ]
  },
  {
   "cell_type": "code",
   "execution_count": 7,
   "metadata": {},
   "outputs": [],
   "source": [
    "P.<x,y,z> = PolynomialRing(QQ)\n",
    "p = 2*x^3*y^2*z + 3/2*y^3*z^3 - 3*x*y*z + y^2"
   ]
  },
  {
   "cell_type": "code",
   "execution_count": 8,
   "metadata": {},
   "outputs": [
    {
     "name": "stdout",
     "output_type": "stream",
     "text": [
      "(x, y, z)\n",
      "(x, y, z)\n",
      "6\n",
      "(3, 3, 3)\n",
      "{(3, 2, 1): 2, (0, 3, 3): 3/2, (1, 1, 1): -3, (0, 2, 0): 1}\n",
      "[(3, 2, 1), (0, 3, 3), (1, 1, 1), (0, 2, 0)]\n",
      "[x^3*y^2*z, y^3*z^3, x*y*z, y^2]\n",
      "(x, y, z)\n"
     ]
    }
   ],
   "source": [
    "print(p.variables())\n",
    "print( p.args())\n",
    "print( p.degree())\n",
    "print(p.degrees())\n",
    "print(p.dict())\n",
    "print(p.exponents())\n",
    "print(p.monomials())\n",
    "print(p.variables())"
   ]
  },
  {
   "cell_type": "code",
   "execution_count": 9,
   "metadata": {},
   "outputs": [
    {
     "data": {
      "text/plain": [
       "[x^3*y^2*z, y^3*z^3, x*y*z, y^2]"
      ]
     },
     "execution_count": 9,
     "metadata": {},
     "output_type": "execute_result"
    }
   ],
   "source": [
    "m = p.monomials()\n",
    "m"
   ]
  },
  {
   "cell_type": "markdown",
   "metadata": {},
   "source": [
    "## Function that determines whether two monomes are dividing "
   ]
  },
  {
   "cell_type": "code",
   "execution_count": 10,
   "metadata": {},
   "outputs": [],
   "source": [
    "\"\"\" Cette fonction détermine si deux monômes se divisent.\n",
    "    Deux monômes se divisent lorsqque la différence de degrés de toutes les variables est positive. \"\"\"\n",
    "def does_divide(m1,m2):\n",
    "    for c in (vector(ZZ, m1.degrees()) - vector(ZZ,m2.degrees())):\n",
    "        if c < 0:\n",
    "            return False\n",
    "    return True"
   ]
  },
  {
   "cell_type": "code",
   "execution_count": 11,
   "metadata": {},
   "outputs": [],
   "source": [
    "m1 = x^2*y\n",
    "m2 = x^2*y\n",
    "m3 = x^2\n",
    "m4 = x*y"
   ]
  },
  {
   "cell_type": "code",
   "execution_count": 12,
   "metadata": {},
   "outputs": [
    {
     "data": {
      "text/plain": [
       "((2, 1, 0), (2, 1, 0), (0, 0, 0))"
      ]
     },
     "execution_count": 12,
     "metadata": {},
     "output_type": "execute_result"
    }
   ],
   "source": [
    "vector(ZZ, m1.degrees()), vector(ZZ, m2.degrees()), vector(ZZ, m1.degrees()) - vector(ZZ, m2.degrees())"
   ]
  },
  {
   "cell_type": "code",
   "execution_count": 13,
   "metadata": {},
   "outputs": [
    {
     "data": {
      "text/plain": [
       "((2, 0, 0), (1, 1, 0), (1, -1, 0))"
      ]
     },
     "execution_count": 13,
     "metadata": {},
     "output_type": "execute_result"
    }
   ],
   "source": [
    "vector(ZZ, m3.degrees()), vector(ZZ, m4.degrees()), vector(ZZ, m3.degrees()) - vector(ZZ, m4.degrees())"
   ]
  },
  {
   "cell_type": "code",
   "execution_count": 14,
   "metadata": {},
   "outputs": [
    {
     "data": {
      "text/plain": [
       "((2, 1, 0), (2, 0, 0), (0, 1, 0))"
      ]
     },
     "execution_count": 14,
     "metadata": {},
     "output_type": "execute_result"
    }
   ],
   "source": [
    "vector(ZZ, m1.degrees()), vector(ZZ, m3.degrees()), vector(ZZ, m1.degrees()) - vector(ZZ, m3.degrees())"
   ]
  },
  {
   "cell_type": "code",
   "execution_count": 15,
   "metadata": {},
   "outputs": [
    {
     "data": {
      "text/plain": [
       "((1, 1, 0), (2, 0, 0), (-1, 1, 0))"
      ]
     },
     "execution_count": 15,
     "metadata": {},
     "output_type": "execute_result"
    }
   ],
   "source": [
    "vector(ZZ, m4.degrees()), vector(ZZ, m3.degrees()), vector(ZZ, m4.degrees()) - vector(ZZ, m3.degrees())"
   ]
  },
  {
   "cell_type": "code",
   "execution_count": 16,
   "metadata": {},
   "outputs": [
    {
     "data": {
      "text/plain": [
       "(True, False, True, False)"
      ]
     },
     "execution_count": 16,
     "metadata": {},
     "output_type": "execute_result"
    }
   ],
   "source": [
    "does_divide(m1,m2), does_divide(m3,m4), does_divide(m1,m3), does_divide(m4,m3)"
   ]
  },
  {
   "cell_type": "markdown",
   "metadata": {},
   "source": [
    "## Multivariate polynomial division algorithm"
   ]
  },
  {
   "cell_type": "code",
   "execution_count": 17,
   "metadata": {},
   "outputs": [],
   "source": [
    "def division_Algo(f,List):\n",
    "    a = [0 for j in range(0,len(List))]\n",
    "    r = P(0)\n",
    "    p = f\n",
    "    while p != P(0):\n",
    "        i = 0\n",
    "        division_occured = False\n",
    "        while (i < len(List) and division_occured == False):\n",
    "            if does_divide(p.lm(), List[i].lm()):\n",
    "                b = P((p.lt()/List[i].lt()))\n",
    "                a[i] = a[i] + b\n",
    "                p = p - b * List[i]\n",
    "                division_occured = True\n",
    "            else:\n",
    "                i = i + 1\n",
    "        if division_occured == False:\n",
    "            r = r + p.lt()\n",
    "            p = p - p.lt()\n",
    "    return a, r"
   ]
  },
  {
   "cell_type": "code",
   "execution_count": 18,
   "metadata": {},
   "outputs": [],
   "source": [
    "P.<x,y,z> = PolynomialRing(QQ)\n",
    "List  = [x^2 + x,  y^2 + y]\n",
    "f = x^3 + y^2"
   ]
  },
  {
   "cell_type": "code",
   "execution_count": 19,
   "metadata": {},
   "outputs": [
    {
     "data": {
      "text/plain": [
       "([x - 1, 1], x - y)"
      ]
     },
     "execution_count": 19,
     "metadata": {},
     "output_type": "execute_result"
    }
   ],
   "source": [
    "division_Algo(f,List)"
   ]
  },
  {
   "cell_type": "code",
   "execution_count": 20,
   "metadata": {},
   "outputs": [],
   "source": [
    "P.<x,y> = PolynomialRing(QQ)\n",
    "f0 = x*y - 1\n",
    "f1 = y^2 - 1\n",
    "f = x^2*y + x*y + y^2\n",
    "List = [f0,f1]"
   ]
  },
  {
   "cell_type": "code",
   "execution_count": 21,
   "metadata": {},
   "outputs": [
    {
     "data": {
      "text/plain": [
       "([x + 1, 1], x + 2)"
      ]
     },
     "execution_count": 21,
     "metadata": {},
     "output_type": "execute_result"
    }
   ],
   "source": [
    "division_Algo(f,List)"
   ]
  },
  {
   "cell_type": "code",
   "execution_count": 22,
   "metadata": {},
   "outputs": [
    {
     "data": {
      "text/plain": [
       "([x + y, 1], x + y + 1)"
      ]
     },
     "execution_count": 22,
     "metadata": {},
     "output_type": "execute_result"
    }
   ],
   "source": [
    "P.<x,y> = PolynomialRing(QQ)\n",
    "f1 = x*y - 1\n",
    "f2 = y^2 - 1\n",
    "p = x^2*y + x*y^2 + y^2\n",
    "L = [f1,f2]\n",
    "division_Algo(p,L)"
   ]
  },
  {
   "cell_type": "code",
   "execution_count": 23,
   "metadata": {},
   "outputs": [
    {
     "data": {
      "text/plain": [
       "([y, 0], -x - y)"
      ]
     },
     "execution_count": 23,
     "metadata": {},
     "output_type": "execute_result"
    }
   ],
   "source": [
    "P.<x,y> = PolynomialRing(QQ)\n",
    "f1 = x*y + 1\n",
    "f2 = y^2 - 1\n",
    "p = x*y^2 - x\n",
    "fs = [f1,f2]\n",
    "division_Algo(p,fs)"
   ]
  },
  {
   "cell_type": "code",
   "execution_count": 24,
   "metadata": {},
   "outputs": [
    {
     "data": {
      "text/plain": [
       "([0, 1, 0], x*y + 2*y^2 - x + y)"
      ]
     },
     "execution_count": 24,
     "metadata": {},
     "output_type": "execute_result"
    }
   ],
   "source": [
    "P.<x,y,z> = PolynomialRing(QQ)\n",
    "f0 = x^3 - 2*x*y\n",
    "f1 = x^2*y -2*y^2 + x\n",
    "f2 = 3*x^3*y + x*z + 5*y - 4*y*z\n",
    "f = x^2*y + x*y + y\n",
    "F = [f0,f1,f2]\n",
    "division_Algo(f,F)"
   ]
  },
  {
   "cell_type": "markdown",
   "metadata": {},
   "source": [
    "## Buchberger's algorithm"
   ]
  },
  {
   "cell_type": "code",
   "execution_count": 25,
   "metadata": {},
   "outputs": [],
   "source": [
    "def buchberger(F):\n",
    "    G = F\n",
    "    G2 = []\n",
    "    while G2 != G:\n",
    "        G2 = copy(G)\n",
    "        for f,g in cartesian_product_iterator([G2, G2 ]):\n",
    "            if f<g:\n",
    "                s = spol(f,g).reduce(G2)\n",
    "                if s != 0:\n",
    "                    G.append(s)\n",
    "    return G"
   ]
  },
  {
   "cell_type": "code",
   "execution_count": 26,
   "metadata": {},
   "outputs": [
    {
     "data": {
      "text/plain": [
       "[x^3*z, x^2*y + x*z, x*y^2, x^2*z^2, x*y*z, x*z^3, x*z^2]"
      ]
     },
     "execution_count": 26,
     "metadata": {},
     "output_type": "execute_result"
    }
   ],
   "source": [
    "Poly_QQ__2.<x,y,z> = PolynomialRing(FiniteField(2),order=\"lex\")\n",
    "f1 = x^3*z-2*x*y\n",
    "f2 = x^2*y-2*y^2+x*z\n",
    "f3 = x*y^2 +4*x^2*z\n",
    "F = [f1,f2,f3]\n",
    "buchberger(F)"
   ]
  },
  {
   "cell_type": "code",
   "execution_count": 27,
   "metadata": {},
   "outputs": [
    {
     "data": {
      "text/plain": [
       "[x*y + 1, y^2 + 1, x + y]"
      ]
     },
     "execution_count": 27,
     "metadata": {},
     "output_type": "execute_result"
    }
   ],
   "source": [
    "P.<x,y> = PolynomialRing(FiniteField(2),order=\"lex\")\n",
    "f0 = x*y - 1\n",
    "f1 = y^2 - 1\n",
    "#f = x^2*y + x*y + y^2\n",
    "List = [f0,f1]\n",
    "buchberger(List)"
   ]
  },
  {
   "cell_type": "code",
   "execution_count": 28,
   "metadata": {},
   "outputs": [
    {
     "data": {
      "text/plain": [
       "Ideal (x*t + x*s + x + y + z*t + z + t + 1, x*y + x*t + x + y*t + y*s + y + z*t + 1, x*y + x*s + x + y*z + y*t + z*t + z*s + z + t + s, x*y + x*z + x*t + x*s + y*z + y + z*s, x*y + x*z + y*s + z + t + s) of Multivariate Polynomial Ring in x, y, z, t, s over Finite Field of size 2"
      ]
     },
     "execution_count": 28,
     "metadata": {},
     "output_type": "execute_result"
    }
   ],
   "source": [
    "P.<x,y,z,t,s> = PolynomialRing(FiniteField(2),order=\"lex\")\n",
    "f = x*t + z*t + x*s + x + y + z + t - 1\n",
    "g = x*y + x*t + y*t + z*t + y*s + x + y - 1\n",
    "h = x*y + y*z + y*t + z*t + x*s + z*s + x + z + t + s\n",
    "k = x*y + x*z + y*z + x*t + x*s + z*s + y\n",
    "l = x*y + x*z + y*s + z + t  + s\n",
    "\n",
    "F = [f, g, h, k, l]\n",
    "I = Ideal(F)\n",
    "I"
   ]
  },
  {
   "cell_type": "code",
   "execution_count": 29,
   "metadata": {},
   "outputs": [
    {
     "data": {
      "text/plain": [
       "False"
      ]
     },
     "execution_count": 29,
     "metadata": {},
     "output_type": "execute_result"
    }
   ],
   "source": [
    "I.basis_is_groebner()"
   ]
  },
  {
   "cell_type": "code",
   "execution_count": null,
   "metadata": {},
   "outputs": [],
   "source": [
    "#buchberger(F)"
   ]
  },
  {
   "cell_type": "markdown",
   "metadata": {},
   "source": [
    "## Generation of the HFE public key scheme"
   ]
  },
  {
   "cell_type": "code",
   "execution_count": 31,
   "metadata": {},
   "outputs": [
    {
     "data": {
      "text/plain": [
       "' brief generates public key for an HFE instance\\n    parameter n: number of variables;\\n    parameter q: cardinality of base field to work over. This has to be power of prime.\\n    The function computes the public key by base transformation.\\n    It uses multivariate polynomials to simulate general vector.\\n    Hence, the orientation in code might be difficult as we work with polynomials such that coefficents are\\nmultivariate polynomials. '"
      ]
     },
     "execution_count": 31,
     "metadata": {},
     "output_type": "execute_result"
    }
   ],
   "source": [
    "\"\"\" brief generates public key for an HFE instance\n",
    "    parameter n: number of variables;\n",
    "    parameter q: cardinality of base field to work over. This has to be power of prime.\n",
    "    The function computes the public key by base transformation.\n",
    "    It uses multivariate polynomials to simulate general vector.\n",
    "    Hence, the orientation in code might be difficult as we work with polynomials such that coefficents are\n",
    "multivariate polynomials. \"\"\""
   ]
  },
  {
   "cell_type": "code",
   "execution_count": 32,
   "metadata": {},
   "outputs": [],
   "source": [
    "def HFEkeyGeneration (n, q):\n",
    "    \n",
    "    # initialyzes basic structures\n",
    "    k = GF(q)\n",
    "    \n",
    "    # variables name, use whatever you want\n",
    "    v = ['x'+ str(num) for num in range (1, n+1)]\n",
    "    R = PolynomialRing(k, v, n)\n",
    "    \n",
    "    # The quotient ring for x_i^q = x_i\n",
    "    J = R.ideal([ x^q-x for x in R.gens()])\n",
    "    H = R.quotient_ring(J, v)\n",
    "\n",
    "    # Initializes affine transformations S = (A, c) , T = (B, d)\n",
    "    A = Matrix([[1,0,1],[0,1,0],[0,1,1]])\n",
    "    B = Matrix([[0,1,1],[1,1,0],[0,0,1]])\n",
    "    c = vector([0,1,0])\n",
    "    d = vector([1,0,0])\n",
    "    \n",
    "    # The general vector we encrypt\n",
    "    # Serves for construction of public key\n",
    "    m = vector(R, n, R.gens())\n",
    "    \n",
    "    # Apply S to general message m\n",
    "    m = A*m\n",
    "    m = m + c\n",
    "    \n",
    "    # Transforms vector to list and reverses it\n",
    "    list = m.list()\n",
    "    \n",
    "    # Setup of quotient ring\n",
    "    P.<x> = PolynomialRing(k)\n",
    "    g = x^3+x+1\n",
    "    L.<t> = PolynomialRing(R)\n",
    "   \n",
    "\n",
    "    #Sets the quotient ring with irreducible polynomial gof degree n\n",
    "    g = L(g) # t^3+t+1\n",
    "    I = L.ideal([g]) # Principal ideal (t^3 + t + 1) of Univariate Polynomial Ring in t over \n",
    "    # Multivariate Polynomial Ring in x, y, z over Integer Ring\n",
    "    Q = L.quotient_ring(I) # Univariate Quotient Polynomial Ring in tbar over Multivariate Polynomial Ring \n",
    "    # in x, y, z over Integer Ring with modulus (t^3 + t + 1)\n",
    "   \n",
    "    pol = L(list)\n",
    "    pol = Q(pol^(q+1) + (t+1)*pol + 1)\n",
    "    list = pol.list()\n",
    "    list.reverse()\n",
    "    m = vector(R, n, list )\n",
    "    # Apply affine transformation T\n",
    "    m = B*m\n",
    "    m = m + d\n",
    "    # Following part prints the setup of current HFE instance and can be turned off  by commenting\n",
    "    print(\" setup the HFE instance with n=%d and q=%d\" %(n, q ))\n",
    "    print(\"---------------------------------------------------------------------------------------\\n\")\n",
    "    print(\"The affine transformation S is : \")\n",
    "    print(A)\n",
    "    print(\"\")\n",
    "    print (c)\n",
    "    print(\"\\n The affine transformation T is : \")\n",
    "    print(B)\n",
    "    print(\"\")\n",
    "    print(d)\n",
    "    print(\"\")\n",
    "    print(\"generator g of quotient_ring is : \")\n",
    "    print(g)\n",
    "    # Forces x^q = x and prints the public key .\n",
    "    print(\"\\n The public key is : \")\n",
    "    list = m.list()\n",
    "    for i in range(n):\n",
    "        list[i] = H(list[i])\n",
    "        print(\"p\" + str(i+1) + \" = \" + str(list[i]) + ' , ')\n",
    "    return m"
   ]
  },
  {
   "cell_type": "code",
   "execution_count": 33,
   "metadata": {},
   "outputs": [
    {
     "name": "stdout",
     "output_type": "stream",
     "text": [
      " setup the HFE instance with n=3 and q=2\n",
      "---------------------------------------------------------------------------------------\n",
      "\n",
      "The affine transformation S is : \n",
      "[1 0 1]\n",
      "[0 1 0]\n",
      "[0 1 1]\n",
      "\n",
      "(0, 1, 0)\n",
      "\n",
      " The affine transformation T is : \n",
      "[0 1 1]\n",
      "[1 1 0]\n",
      "[0 0 1]\n",
      "\n",
      "(1, 0, 0)\n",
      "\n",
      "generator g of quotient_ring is : \n",
      "t^3 + t + 1\n",
      "\n",
      " The public key is : \n",
      "p1 = x1*x3 + x2*x3 + x3 + 1 , \n",
      "p2 = x1*x2 + x1*x3 + x2*x3 + x1 + x3 + 1 , \n",
      "p3 = x2*x3 + x2 + x3 , \n"
     ]
    },
    {
     "data": {
      "text/plain": [
       "(x1^3 + x1^2*x2 + x1*x2^2 + x1^2*x3 + x2^2*x3 + x3^3 + x1^2 + x3^2 + x3 + 1, x1*x2^2 + x1^2*x3 + x2*x3^2 + x1^2 + x2^2 + x3^2 + x2 + 1, x1^3 + x2^3 + x1^2*x3 + x2^2*x3 + x1*x3^2 + x3^2 + x1)"
      ]
     },
     "execution_count": 33,
     "metadata": {},
     "output_type": "execute_result"
    }
   ],
   "source": [
    "HFEkeyGeneration(3, 2)"
   ]
  },
  {
   "cell_type": "code",
   "execution_count": 34,
   "metadata": {},
   "outputs": [],
   "source": [
    "def HFEencrypt(list, q):\n",
    "    n = len(list)\n",
    "    m = HFEkeyGeneration(n, q)\n",
    "    print(\"\\n The plaintext is : \")\n",
    "    print(list)\n",
    "    print(\"\\n The ciphertext is \")\n",
    "    return m(list).list()"
   ]
  },
  {
   "cell_type": "code",
   "execution_count": 35,
   "metadata": {},
   "outputs": [
    {
     "name": "stdout",
     "output_type": "stream",
     "text": [
      " setup the HFE instance with n=3 and q=2\n",
      "---------------------------------------------------------------------------------------\n",
      "\n",
      "The affine transformation S is : \n",
      "[1 0 1]\n",
      "[0 1 0]\n",
      "[0 1 1]\n",
      "\n",
      "(0, 1, 0)\n",
      "\n",
      " The affine transformation T is : \n",
      "[0 1 1]\n",
      "[1 1 0]\n",
      "[0 0 1]\n",
      "\n",
      "(1, 0, 0)\n",
      "\n",
      "generator g of quotient_ring is : \n",
      "t^3 + t + 1\n",
      "\n",
      " The public key is : \n",
      "p1 = x1*x3 + x2*x3 + x3 + 1 , \n",
      "p2 = x1*x2 + x1*x3 + x2*x3 + x1 + x3 + 1 , \n",
      "p3 = x2*x3 + x2 + x3 , \n",
      "\n",
      " The plaintext is : \n",
      "[1, 1, 1]\n",
      "\n",
      " The ciphertext is \n"
     ]
    },
    {
     "data": {
      "text/plain": [
       "[0, 0, 1]"
      ]
     },
     "execution_count": 35,
     "metadata": {},
     "output_type": "execute_result"
    }
   ],
   "source": [
    "HFEencrypt([1, 1, 1], 2)"
   ]
  },
  {
   "cell_type": "markdown",
   "metadata": {},
   "source": [
    "## The public key system "
   ]
  },
  {
   "cell_type": "code",
   "execution_count": 66,
   "metadata": {},
   "outputs": [],
   "source": [
    "P.<x,y,z> = PolynomialRing(FiniteField(2),order=\"lex\")\n",
    "c = [0,0,1]\n",
    "p1 = x*z + y*z + z + 1\n",
    "p2 = x*y + x*z + y*z + x + z + 1\n",
    "p3 = y*z + y + z"
   ]
  },
  {
   "cell_type": "code",
   "execution_count": 67,
   "metadata": {},
   "outputs": [],
   "source": [
    "\"\"\" \n",
    "f1 = p1 - c[0] = x*z + y*z + z + 1\n",
    "f2 = p2 - c[1] = x*y + x*z + y*z + x + z + 1\n",
    "f3 = p3 - c[2] = y*z + y + z - 1\n",
    "\"\"\"\n",
    "f1 =  x*z + y*z + z + 1\n",
    "f2 =  x*y + x*z + y*z + x + z + 1\n",
    "f3 =  y*z + y + z - 1"
   ]
  },
  {
   "cell_type": "code",
   "execution_count": 68,
   "metadata": {},
   "outputs": [
    {
     "data": {
      "text/plain": [
       "Ideal (x*z + y*z + z + 1, x*y + x*z + x + y*z + z + 1, y*z + y + z + 1) of Multivariate Polynomial Ring in x, y, z over Finite Field of size 2"
      ]
     },
     "execution_count": 68,
     "metadata": {},
     "output_type": "execute_result"
    }
   ],
   "source": [
    "F = [f1, f2, f3]\n",
    "I = P.ideal(F)\n",
    "I"
   ]
  },
  {
   "cell_type": "markdown",
   "metadata": {},
   "source": [
    "## Solving the polynomials system equations using Groebner basis"
   ]
  },
  {
   "cell_type": "code",
   "execution_count": 69,
   "metadata": {},
   "outputs": [
    {
     "data": {
      "text/plain": [
       "False"
      ]
     },
     "execution_count": 69,
     "metadata": {},
     "output_type": "execute_result"
    }
   ],
   "source": [
    "\"\"\" Test if the ideal I is a Groebner basis \"\"\"\n",
    "I.basis_is_groebner()"
   ]
  },
  {
   "cell_type": "code",
   "execution_count": 70,
   "metadata": {},
   "outputs": [
    {
     "data": {
      "text/plain": [
       "[x*z + y*z + z + 1,\n",
       " x*y + x*z + x + y*z + z + 1,\n",
       " y*z + y + z + 1,\n",
       " y^2 + y,\n",
       " y^2 + y]"
      ]
     },
     "execution_count": 70,
     "metadata": {},
     "output_type": "execute_result"
    }
   ],
   "source": [
    "\"\"\" Construction of the Groebner basis \"\"\"\n",
    "gb = buchberger(F)\n",
    "gb"
   ]
  },
  {
   "cell_type": "code",
   "execution_count": 85,
   "metadata": {},
   "outputs": [
    {
     "data": {
      "text/plain": [
       "1"
      ]
     },
     "execution_count": 85,
     "metadata": {},
     "output_type": "execute_result"
    }
   ],
   "source": [
    "I = P.ideal((x*z + y*z + z + 1, x*y + x*z + x + y*z + z + 1, y*z + y + z + 1, y^2 + y, y^2 + y))\n",
    "dim(I)"
   ]
  },
  {
   "cell_type": "code",
   "execution_count": 89,
   "metadata": {},
   "outputs": [
    {
     "data": {
      "text/plain": [
       "' The dimension of the ideal is 1, but it should be 0 to compute I.variety() and get the answer.  '"
      ]
     },
     "execution_count": 89,
     "metadata": {},
     "output_type": "execute_result"
    }
   ],
   "source": [
    "\"\"\" The dimension of the ideal is 1, but it should be 0 to compute I.variety() and get the answer.  \"\"\""
   ]
  },
  {
   "cell_type": "code",
   "execution_count": 71,
   "metadata": {},
   "outputs": [
    {
     "data": {
      "text/plain": [
       "Groebner fan of the ideal:\n",
       "Ideal (x*z + y*z + z + 1, x*y + x*z + x + y*z + z + 1, y*z + y + z + 1, y^2 + y, y^2 + y) of Multivariate Polynomial Ring in x, y, z over Finite Field of size 2"
      ]
     },
     "execution_count": 71,
     "metadata": {},
     "output_type": "execute_result"
    }
   ],
   "source": [
    "\"\"\" Sage provides much of the functionality of gfan, which is a software package whose main function is to enumerate \n",
    "    all reduced Groebner bases of a polynomial ideal. \"\"\"\n",
    "I = P.ideal([x*z + y*z + z + 1, x*y + x*z + x + y*z + z + 1, y*z + y + z + 1, y^2 + y, y^2 + y]).groebner_fan()\n",
    "I"
   ]
  },
  {
   "cell_type": "code",
   "execution_count": 92,
   "metadata": {},
   "outputs": [
    {
     "data": {
      "text/plain": [
       "[[y*z + y + z + 1, y^2 + y, x*z + y, x*y + x],\n",
       " [x*z^2 + x*z + z + 1, x^2*z + x, x*z + y]]"
      ]
     },
     "execution_count": 92,
     "metadata": {},
     "output_type": "execute_result"
    }
   ],
   "source": [
    "I = P.ideal([x*z + y*z + z + 1, x*y + x*z + x + y*z + z + 1, y*z + y + z + 1, y^2 + y, y^2 + y]).groebner_fan()\n",
    "X = I.reduced_groebner_bases()\n",
    "X"
   ]
  },
  {
   "cell_type": "code",
   "execution_count": 95,
   "metadata": {},
   "outputs": [],
   "source": [
    "#I = P.ideal([x*z + y*z + z + 1, x*y + x*z + x + y*z + z + 1, y*z + y + z + 1, y^2 + y, y^2 + y])\n",
    "#I.interreduced_basis()"
   ]
  },
  {
   "cell_type": "code",
   "execution_count": 97,
   "metadata": {},
   "outputs": [
    {
     "data": {
      "text/plain": [
       "[y*z + y + z + 1, y^2 + y, x*z + y, x*y + x]"
      ]
     },
     "execution_count": 97,
     "metadata": {},
     "output_type": "execute_result"
    }
   ],
   "source": [
    "\"\"\" For the first reduce greobner basis, we get: \"\"\"\n",
    "X1 = X[0]\n",
    "X1"
   ]
  },
  {
   "cell_type": "code",
   "execution_count": 132,
   "metadata": {},
   "outputs": [
    {
     "name": "stdout",
     "output_type": "stream",
     "text": [
      "[\n",
      "[x == 0, y == 0, z == r59],\n",
      "[x == (1/r60), y == -1, z == r60]\n",
      "]\n",
      "-----------------------------------------------\n",
      "[\n",
      "[x == (1/r61), y == -1, z == r61],\n",
      "[x == 0, y == 0, z == -1],\n",
      "[x == -1, y == -1, z == -1]\n",
      "]\n",
      "-----------------------------------------------\n",
      "[\n",
      "[x == (1/r62), y == -1, z == r62],\n",
      "[x == 0, y == 0, z == -1],\n",
      "[x == -1, y == -1, z == -1]\n",
      "]\n",
      "\n",
      "\n",
      "Since we manage the bits it's means that x, y, z are in {0,1}.\n",
      "For the -1 values of the variables, we can add a bit 1 to get the right answer.\n",
      "\n",
      "\n",
      "For the above resolutions we can affirm that x == 1, y == 1, z == 1 is a solution of the polynomials system of equations.\n"
     ]
    }
   ],
   "source": [
    "x, y, z = var('x, y, z')\n",
    "a = solve([x*y + x == 0, x*z + y == 0, y^2 + y == 0], x, y, z)\n",
    "b = solve([x*y + x == 0, x*z + y == 0, y*z + y + z + 1 == 0], x, y, z)\n",
    "c = solve([x*z + y == 0, y^2 + y == 0, y*z + y + z + 1 == 0], x, y, z)\n",
    "print(a)\n",
    "print(\"-----------------------------------------------\")\n",
    "print(b)\n",
    "print(\"-----------------------------------------------\")\n",
    "print(c)\n",
    "print(\"\\n\")\n",
    "print(\"Since we manage the bits it's means that x, y, z are in {0,1}.\")\n",
    "print(\"For the -1 values of the variables, we can add a bit 1 to get the right answer.\")\n",
    "print(\"\\n\")\n",
    "print(\"For the above resolutions we can affirm that x == 1, y == 1, z == 1 is a solution of the polynomials system of equations.\")"
   ]
  },
  {
   "cell_type": "code",
   "execution_count": 98,
   "metadata": {},
   "outputs": [
    {
     "data": {
      "text/plain": [
       "[x*z^2 + x*z + z + 1, x^2*z + x, x*z + y]"
      ]
     },
     "execution_count": 98,
     "metadata": {},
     "output_type": "execute_result"
    }
   ],
   "source": [
    "\"\"\" For the second reduce greobner basis, we get \"\"\"\n",
    "X1 = X[1]\n",
    "X1"
   ]
  },
  {
   "cell_type": "code",
   "execution_count": 124,
   "metadata": {},
   "outputs": [
    {
     "name": "stdout",
     "output_type": "stream",
     "text": [
      "[\n",
      "[x == -1/r50, y == 1, z == r50],\n",
      "[x == 0, y == 0, z == -1]\n",
      "]\n",
      "\n",
      "\n",
      "Since we manage the bits it's means that x, y, z are in {0,1}.\n",
      "For the -1 values of the variables, we can add a bit 1 to get the right answer.\n",
      "\n",
      "\n",
      "For the above resolutions we can affirm that x == 1, y == 1, z == 1 is a solution of the polynomials system of equations.\n"
     ]
    }
   ],
   "source": [
    "x, y, z = var('x, y, z')\n",
    "d = solve([x*z^2 + x*z + z + 1 == 0, x^2*z + x == 0, x*z + y == 0], x, y, z)\n",
    "print(d)\n",
    "print(\"\\n\")\n",
    "print(\"Since we manage the bits it's means that x, y, z are in {0,1}.\")\n",
    "print(\"For the -1 values of the variables, we can add a bit 1 to get the right answer.\")\n",
    "print(\"\\n\")\n",
    "print(\"For the above resolutions we can affirm that x == 1, y == 1, z == 1 is a solution of the polynomials system of equations.\")"
   ]
  },
  {
   "cell_type": "code",
   "execution_count": 129,
   "metadata": {},
   "outputs": [
    {
     "name": "stdout",
     "output_type": "stream",
     "text": [
      "\n",
      "\n",
      "After resolution of the polynomials systems equations for the reduce groebner basis, we get the plaintext (1, 1, 1).\n",
      "\n",
      "\n"
     ]
    }
   ],
   "source": [
    "print(\"\\n\")\n",
    "print(\"After resolution of the polynomials systems equations for the reduce groebner basis, we get the plaintext (1, 1, 1).\")\n",
    "print(\"\\n\")"
   ]
  },
  {
   "cell_type": "code",
   "execution_count": null,
   "metadata": {},
   "outputs": [],
   "source": []
  },
  {
   "cell_type": "code",
   "execution_count": null,
   "metadata": {},
   "outputs": [],
   "source": []
  },
  {
   "cell_type": "code",
   "execution_count": null,
   "metadata": {},
   "outputs": [],
   "source": []
  }
 ],
 "metadata": {
  "kernelspec": {
   "display_name": "SageMath 9.0",
   "language": "sage",
   "name": "sagemath"
  },
  "language_info": {
   "codemirror_mode": {
    "name": "ipython",
    "version": 3
   },
   "file_extension": ".py",
   "mimetype": "text/x-python",
   "name": "python",
   "nbconvert_exporter": "python",
   "pygments_lexer": "ipython3",
   "version": "3.7.3"
  }
 },
 "nbformat": 4,
 "nbformat_minor": 2
}
